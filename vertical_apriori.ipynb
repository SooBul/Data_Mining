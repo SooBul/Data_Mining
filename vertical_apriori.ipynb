{
  "nbformat": 4,
  "nbformat_minor": 0,
  "metadata": {
    "colab": {
      "provenance": []
    },
    "kernelspec": {
      "name": "python3",
      "display_name": "Python 3"
    },
    "language_info": {
      "name": "python"
    }
  },
  "cells": [
    {
      "cell_type": "markdown",
      "source": [
        "**thuật toán vertical apriori**"
      ],
      "metadata": {
        "id": "-A10FDpmGr1C"
      }
    },
    {
      "cell_type": "code",
      "source": [
        "import numpy as np\n",
        "def compute_vertical_bitvector_data(data):\n",
        "    #---build item to idx mapping---#\n",
        "    idx = 0\n",
        "    item2idx = {}\n",
        "    for transaction in data:\n",
        "        for item in transaction:\n",
        "            if not item in item2idx:\n",
        "                item2idx[item] = idx\n",
        "                idx += 1\n",
        "    idx2item = { idx : item for item, idx in item2idx.items() }\n",
        "    #---build vertical data---#\n",
        "    vb_data = np.zeros((len(item2idx), len(data)), dtype=int)\n",
        "    for trans_id, transaction in enumerate(data):\n",
        "        for item in transaction:\n",
        "            vb_data[item2idx[item], trans_id] = 1\n",
        "\n",
        "    return vb_data, idx2item\n",
        "\n",
        "def compute_L1(data, idx2item, num_trans, min_support):\n",
        "\tL1 = []\n",
        "\tsupport_list = {}\n",
        "\tfor idx, bit_list in enumerate(data):\n",
        "\t\tsupport = np.sum(bit_list) / num_trans\n",
        "\t\tif support >= min_support:\n",
        "\t\t\tsupport_list[frozenset([idx2item[idx]])] = bit_list\n",
        "\t\t\tL1.append([idx2item[idx]])\n",
        "\treturn list(map(frozenset, sorted(L1))), support_list\n",
        "\n",
        "def compute_LK(LK_, support_list, k, num_trans, min_support):\n",
        "    LK = []\n",
        "    supportK = {}\n",
        "    for i in range(len(LK_)):\n",
        "        for j in range(i+1, len(LK_)):  # enumerate all combinations in the Lk-1 itemsets\n",
        "            L1 = sorted(list(LK_[i])[:k-2])\n",
        "            L2 = sorted(list(LK_[j])[:k-2])\n",
        "            if L1 == L2: # if the first k-1 terms are the same in two itemsets, calculate the intersection support\n",
        "\n",
        "                union = np.multiply(support_list[LK_[i]], support_list[LK_[j]])\n",
        "                union_support = np.sum(union) / num_trans\n",
        "                if union_support >= min_support:\n",
        "                    new_itemset = frozenset(sorted(list(LK_[i] | LK_[j])))\n",
        "                    if new_itemset not in LK:\n",
        "                        LK.append(new_itemset)\n",
        "                        supportK[new_itemset] = union\n",
        "    return sorted(LK), supportK\n",
        "\n",
        "def eclat(data, min_support, iterative=False,block=None, thread=None):\n",
        "\n",
        "\tnum_trans = float(len(data))\n",
        "\n",
        "\t#---iterative method---#\n",
        "\n",
        "\n",
        "\tvb_data, idx2item = compute_vertical_bitvector_data(data)\n",
        "\tL1, support_list = compute_L1(vb_data, idx2item, num_trans, min_support)\n",
        "\tL = [L1]\n",
        "\tk = 1\n",
        "\n",
        "\twhile True:\n",
        "\t\t\tprint('Running Eclat: the %i-th iteration with %i itemsets in L%i...' % (k, len(L[-1]), k))\n",
        "\t\t\tk += 1\n",
        "\t\t\tLK, supportK = compute_LK(L[-1], support_list, k, num_trans, min_support)\n",
        "\n",
        "\t\t\tif len(LK) == 0:\n",
        "\t\t\t\tL = [sorted([tuple(sorted(itemset)) for itemset in LK]) for LK in L]\n",
        "\t\t\t\tsupport_list = dict((tuple(sorted(k)), np.sum(v)) for k, v in support_list.items())\n",
        "\t\t\t\tprint('Running Eclat: the %i-th iteration. Terminating ...' % (k-1))\n",
        "\t\t\t\tbreak\n",
        "\t\t\telse:\n",
        "\t\t\t\tL.append(LK)\n",
        "\t\t\t\tsupport_list.update(supportK)\n",
        "\treturn L, support_list\n",
        "\n"
      ],
      "metadata": {
        "id": "v2CGlpYb9Jey"
      },
      "execution_count": null,
      "outputs": []
    },
    {
      "cell_type": "code",
      "source": [
        "data = [['Wine', 'Chips', 'Bread', 'Butter', 'Milk', 'Apple'],\n",
        "    ['Wine', 'Bread', 'Butter', 'Milk'],\n",
        "    ['Bread', 'Butter', 'Milk'],\n",
        "    ['Chips', 'Butter', 'Apple'],\n",
        "    ['Wine', 'Chips', 'Bread', 'Butter', 'Milk', 'Apple'],\n",
        "    ['Wine', 'Chips', 'Milk'],\n",
        "    ['Wine', 'Chips', 'Bread', 'Butter', 'Apple'],\n",
        "    ['Wine', 'Chips', 'Milk'],\n",
        "    ['Wine', 'Bread', 'Apple'],\n",
        "    ['Wine', 'Bread', 'Butter', 'Milk'],\n",
        "    ['Chips', 'Bread', 'Butter', 'Apple'],\n",
        "    ['Wine', 'Butter', 'Milk', 'Apple'],\n",
        "    ['Wine', 'Chips', 'Bread', 'Butter', 'Milk'],\n",
        "    ['Wine', 'Bread', 'Milk', 'Apple'],\n",
        "    ['Wine', 'Bread', 'Butter', 'Milk', 'Apple'],\n",
        "    ['Wine', 'Chips', 'Bread', 'Butter', 'Milk', 'Apple'],\n",
        "    ['Chips', 'Bread', 'Butter', 'Milk', 'Apple'],\n",
        "    ['Chips', 'Butter', 'Milk', 'Apple'],\n",
        "    ['Wine', 'Chips', 'Bread', 'Butter', 'Milk', 'Apple'],\n",
        "    ['Wine', 'Bread', 'Butter', 'Milk', 'Apple'],\n",
        "    ['Wine', 'Chips', 'Bread', 'Milk', 'Apple'],\n",
        "    ['Chips', 'Bread', 'Milk']\n",
        "]\n",
        "\n",
        "L, support_list = eclat(data, min_support=3)\n",
        "\n",
        "print('Frequent itemsets:')\n",
        "for k in range(len(L)):\n",
        "    for itemset in L[k]:\n",
        "        print('{}: {}'.format(list(itemset), support_list[itemset]))\n"
      ],
      "metadata": {
        "colab": {
          "base_uri": "https://localhost:8080/"
        },
        "id": "46qQ0jfT-N12",
        "outputId": "ac8558c1-fca8-4962-a7cd-3441ba21555b"
      },
      "execution_count": null,
      "outputs": [
        {
          "output_type": "stream",
          "name": "stdout",
          "text": [
            "Running Eclat: the 1-th iteration with 0 itemsets in L1...\n",
            "Running Eclat: the 1-th iteration. Terminating ...\n",
            "Frequent itemsets:\n"
          ]
        }
      ]
    },
    {
      "cell_type": "markdown",
      "source": [
        "**KIỂM TRA BẰNG THƯ VIỆN pyECLAT**"
      ],
      "metadata": {
        "id": "XrcyhozZW5ZZ"
      }
    },
    {
      "cell_type": "code",
      "source": [
        "!pip install pyECLAT"
      ],
      "metadata": {
        "colab": {
          "base_uri": "https://localhost:8080/"
        },
        "id": "jX1j9H0HUSex",
        "outputId": "abf01977-402c-407d-c254-02f95f2e028f"
      },
      "execution_count": null,
      "outputs": [
        {
          "output_type": "stream",
          "name": "stdout",
          "text": [
            "Looking in indexes: https://pypi.org/simple, https://us-python.pkg.dev/colab-wheels/public/simple/\n",
            "Collecting pyECLAT\n",
            "  Downloading pyECLAT-1.0.2-py3-none-any.whl (6.3 kB)\n",
            "Requirement already satisfied: pandas>=0.25.3 in /usr/local/lib/python3.10/dist-packages (from pyECLAT) (1.5.3)\n",
            "Requirement already satisfied: numpy>=1.17.4 in /usr/local/lib/python3.10/dist-packages (from pyECLAT) (1.22.4)\n",
            "Requirement already satisfied: tqdm>=4.41.1 in /usr/local/lib/python3.10/dist-packages (from pyECLAT) (4.65.0)\n",
            "Requirement already satisfied: python-dateutil>=2.8.1 in /usr/local/lib/python3.10/dist-packages (from pandas>=0.25.3->pyECLAT) (2.8.2)\n",
            "Requirement already satisfied: pytz>=2020.1 in /usr/local/lib/python3.10/dist-packages (from pandas>=0.25.3->pyECLAT) (2022.7.1)\n",
            "Requirement already satisfied: six>=1.5 in /usr/local/lib/python3.10/dist-packages (from python-dateutil>=2.8.1->pandas>=0.25.3->pyECLAT) (1.16.0)\n",
            "Installing collected packages: pyECLAT\n",
            "Successfully installed pyECLAT-1.0.2\n"
          ]
        }
      ]
    },
    {
      "cell_type": "code",
      "source": [
        "df=pd.read_excel('/content/drive/MyDrive/DataMining/csdl_tuan5.xlsx',header=None)\n",
        "df.head().T"
      ],
      "metadata": {
        "colab": {
          "base_uri": "https://localhost:8080/",
          "height": 238
        },
        "id": "5kO8VXOTWcTj",
        "outputId": "2103694f-7478-4256-ea7f-0fa2632ae90f"
      },
      "execution_count": null,
      "outputs": [
        {
          "output_type": "execute_result",
          "data": {
            "text/plain": [
              "        0       1       2       3       4\n",
              "0    Wine    Wine     NaN     NaN    Wine\n",
              "1   Chips     NaN     NaN   Chips   Chips\n",
              "2   Bread   Bread   Bread     NaN   Bread\n",
              "3  Butter  Butter  Butter  Butter  Butter\n",
              "4    Milk    Milk    Milk     NaN    Milk\n",
              "5   Apple     NaN     NaN   Apple   Apple"
            ],
            "text/html": [
              "\n",
              "  <div id=\"df-a2ebdfc6-717d-4c86-89bf-c86b67fd0d39\">\n",
              "    <div class=\"colab-df-container\">\n",
              "      <div>\n",
              "<style scoped>\n",
              "    .dataframe tbody tr th:only-of-type {\n",
              "        vertical-align: middle;\n",
              "    }\n",
              "\n",
              "    .dataframe tbody tr th {\n",
              "        vertical-align: top;\n",
              "    }\n",
              "\n",
              "    .dataframe thead th {\n",
              "        text-align: right;\n",
              "    }\n",
              "</style>\n",
              "<table border=\"1\" class=\"dataframe\">\n",
              "  <thead>\n",
              "    <tr style=\"text-align: right;\">\n",
              "      <th></th>\n",
              "      <th>0</th>\n",
              "      <th>1</th>\n",
              "      <th>2</th>\n",
              "      <th>3</th>\n",
              "      <th>4</th>\n",
              "    </tr>\n",
              "  </thead>\n",
              "  <tbody>\n",
              "    <tr>\n",
              "      <th>0</th>\n",
              "      <td>Wine</td>\n",
              "      <td>Wine</td>\n",
              "      <td>NaN</td>\n",
              "      <td>NaN</td>\n",
              "      <td>Wine</td>\n",
              "    </tr>\n",
              "    <tr>\n",
              "      <th>1</th>\n",
              "      <td>Chips</td>\n",
              "      <td>NaN</td>\n",
              "      <td>NaN</td>\n",
              "      <td>Chips</td>\n",
              "      <td>Chips</td>\n",
              "    </tr>\n",
              "    <tr>\n",
              "      <th>2</th>\n",
              "      <td>Bread</td>\n",
              "      <td>Bread</td>\n",
              "      <td>Bread</td>\n",
              "      <td>NaN</td>\n",
              "      <td>Bread</td>\n",
              "    </tr>\n",
              "    <tr>\n",
              "      <th>3</th>\n",
              "      <td>Butter</td>\n",
              "      <td>Butter</td>\n",
              "      <td>Butter</td>\n",
              "      <td>Butter</td>\n",
              "      <td>Butter</td>\n",
              "    </tr>\n",
              "    <tr>\n",
              "      <th>4</th>\n",
              "      <td>Milk</td>\n",
              "      <td>Milk</td>\n",
              "      <td>Milk</td>\n",
              "      <td>NaN</td>\n",
              "      <td>Milk</td>\n",
              "    </tr>\n",
              "    <tr>\n",
              "      <th>5</th>\n",
              "      <td>Apple</td>\n",
              "      <td>NaN</td>\n",
              "      <td>NaN</td>\n",
              "      <td>Apple</td>\n",
              "      <td>Apple</td>\n",
              "    </tr>\n",
              "  </tbody>\n",
              "</table>\n",
              "</div>\n",
              "      <button class=\"colab-df-convert\" onclick=\"convertToInteractive('df-a2ebdfc6-717d-4c86-89bf-c86b67fd0d39')\"\n",
              "              title=\"Convert this dataframe to an interactive table.\"\n",
              "              style=\"display:none;\">\n",
              "        \n",
              "  <svg xmlns=\"http://www.w3.org/2000/svg\" height=\"24px\"viewBox=\"0 0 24 24\"\n",
              "       width=\"24px\">\n",
              "    <path d=\"M0 0h24v24H0V0z\" fill=\"none\"/>\n",
              "    <path d=\"M18.56 5.44l.94 2.06.94-2.06 2.06-.94-2.06-.94-.94-2.06-.94 2.06-2.06.94zm-11 1L8.5 8.5l.94-2.06 2.06-.94-2.06-.94L8.5 2.5l-.94 2.06-2.06.94zm10 10l.94 2.06.94-2.06 2.06-.94-2.06-.94-.94-2.06-.94 2.06-2.06.94z\"/><path d=\"M17.41 7.96l-1.37-1.37c-.4-.4-.92-.59-1.43-.59-.52 0-1.04.2-1.43.59L10.3 9.45l-7.72 7.72c-.78.78-.78 2.05 0 2.83L4 21.41c.39.39.9.59 1.41.59.51 0 1.02-.2 1.41-.59l7.78-7.78 2.81-2.81c.8-.78.8-2.07 0-2.86zM5.41 20L4 18.59l7.72-7.72 1.47 1.35L5.41 20z\"/>\n",
              "  </svg>\n",
              "      </button>\n",
              "      \n",
              "  <style>\n",
              "    .colab-df-container {\n",
              "      display:flex;\n",
              "      flex-wrap:wrap;\n",
              "      gap: 12px;\n",
              "    }\n",
              "\n",
              "    .colab-df-convert {\n",
              "      background-color: #E8F0FE;\n",
              "      border: none;\n",
              "      border-radius: 50%;\n",
              "      cursor: pointer;\n",
              "      display: none;\n",
              "      fill: #1967D2;\n",
              "      height: 32px;\n",
              "      padding: 0 0 0 0;\n",
              "      width: 32px;\n",
              "    }\n",
              "\n",
              "    .colab-df-convert:hover {\n",
              "      background-color: #E2EBFA;\n",
              "      box-shadow: 0px 1px 2px rgba(60, 64, 67, 0.3), 0px 1px 3px 1px rgba(60, 64, 67, 0.15);\n",
              "      fill: #174EA6;\n",
              "    }\n",
              "\n",
              "    [theme=dark] .colab-df-convert {\n",
              "      background-color: #3B4455;\n",
              "      fill: #D2E3FC;\n",
              "    }\n",
              "\n",
              "    [theme=dark] .colab-df-convert:hover {\n",
              "      background-color: #434B5C;\n",
              "      box-shadow: 0px 1px 3px 1px rgba(0, 0, 0, 0.15);\n",
              "      filter: drop-shadow(0px 1px 2px rgba(0, 0, 0, 0.3));\n",
              "      fill: #FFFFFF;\n",
              "    }\n",
              "  </style>\n",
              "\n",
              "      <script>\n",
              "        const buttonEl =\n",
              "          document.querySelector('#df-a2ebdfc6-717d-4c86-89bf-c86b67fd0d39 button.colab-df-convert');\n",
              "        buttonEl.style.display =\n",
              "          google.colab.kernel.accessAllowed ? 'block' : 'none';\n",
              "\n",
              "        async function convertToInteractive(key) {\n",
              "          const element = document.querySelector('#df-a2ebdfc6-717d-4c86-89bf-c86b67fd0d39');\n",
              "          const dataTable =\n",
              "            await google.colab.kernel.invokeFunction('convertToInteractive',\n",
              "                                                     [key], {});\n",
              "          if (!dataTable) return;\n",
              "\n",
              "          const docLinkHtml = 'Like what you see? Visit the ' +\n",
              "            '<a target=\"_blank\" href=https://colab.research.google.com/notebooks/data_table.ipynb>data table notebook</a>'\n",
              "            + ' to learn more about interactive tables.';\n",
              "          element.innerHTML = '';\n",
              "          dataTable['output_type'] = 'display_data';\n",
              "          await google.colab.output.renderOutput(dataTable, element);\n",
              "          const docLink = document.createElement('div');\n",
              "          docLink.innerHTML = docLinkHtml;\n",
              "          element.appendChild(docLink);\n",
              "        }\n",
              "      </script>\n",
              "    </div>\n",
              "  </div>\n",
              "  "
            ]
          },
          "metadata": {},
          "execution_count": 55
        }
      ]
    },
    {
      "cell_type": "code",
      "source": [
        "from pyECLAT import ECLAT\n",
        "import pandas as pd\n",
        "\n",
        "my_eclat = ECLAT(df, verbose=True)\n",
        "rule_indices, rule_supports = my_eclat.fit(min_support=3, max_combination=2, min_combination=2)\n",
        "\n"
      ],
      "metadata": {
        "colab": {
          "base_uri": "https://localhost:8080/"
        },
        "id": "9ZBuxcXeUxjb",
        "outputId": "af091a45-2719-4b66-ec63-26acf77c4120"
      },
      "execution_count": null,
      "outputs": [
        {
          "output_type": "stream",
          "name": "stderr",
          "text": [
            "100%|██████████| 6/6 [00:00<00:00, 403.53it/s]\n",
            "100%|██████████| 6/6 [00:00<00:00, 40459.52it/s]\n",
            "100%|██████████| 6/6 [00:00<00:00, 1066.62it/s]\n"
          ]
        },
        {
          "output_type": "stream",
          "name": "stdout",
          "text": [
            "Combination 2 by 2\n"
          ]
        },
        {
          "output_type": "stream",
          "name": "stderr",
          "text": [
            "0it [00:00, ?it/s]\n"
          ]
        }
      ]
    },
    {
      "cell_type": "code",
      "source": [
        "rule_supports"
      ],
      "metadata": {
        "colab": {
          "base_uri": "https://localhost:8080/"
        },
        "id": "BFfplHWEWtYg",
        "outputId": "bd2eca60-1e54-4028-dad4-0ac08f59b3bf"
      },
      "execution_count": null,
      "outputs": [
        {
          "output_type": "execute_result",
          "data": {
            "text/plain": [
              "{}"
            ]
          },
          "metadata": {},
          "execution_count": 57
        }
      ]
    }
  ]
}